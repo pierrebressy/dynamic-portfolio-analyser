{
 "cells": [
  {
   "cell_type": "markdown",
   "id": "9b103924-7088-476a-b622-b92fe73a5f54",
   "metadata": {},
   "source": [
    "# Dynamic Portfolio Analysis \n",
    "by Pierre BRESSY\n",
    "\n",
    "Two files contains the data used to analysis the portfolio:\n",
    "- tickers.yaml : list of currencies and tickers with characteristics,\n",
    "- transactions.yaml : list of transactions.\n",
    "\n",
    "The class `portfolio` process the transactions and build a list of available:\n",
    "- cash,\n",
    "- shares."
   ]
  },
  {
   "cell_type": "code",
   "execution_count": null,
   "id": "642912ac-8020-4ba4-8308-d2908fd220ae",
   "metadata": {},
   "outputs": [],
   "source": [
    "from IPython.display import HTML\n",
    "import portfolio as ib\n",
    "import matplotlib.pyplot as plt"
   ]
  },
  {
   "cell_type": "code",
   "execution_count": null,
   "id": "1f651ceb-1563-4055-91d5-47e65ebd1581",
   "metadata": {},
   "outputs": [],
   "source": [
    "def style_pos_neg(val, props=''):\n",
    "    color='black'\n",
    "    if type(val) == float:\n",
    "        color = 'red' if val < 0 else 'green' if val > 0 else 'blue'\n",
    "    return 'color: %s' % color\n",
    "\n",
    "\n",
    "tickers_filename=r'tickers.yaml'\n",
    "transactions_filename=r'transactions.yaml'\n",
    "\n",
    "p=ib.portfolio(tickers_filename,0) #, 1.09395)\n",
    "p.process_transactions(transactions_filename,display=True)\n",
    "sr=p.compute_sectors_ratio()\n",
    "mr=p.compute_market_ratio()\n",
    "d=p.portfolio[2:]\n",
    "d=d.sort_values(by=['P&L %'], ascending=False)\n",
    "e=d.style.applymap(style_pos_neg, subset=['P&L Currency','P&L CHF','P&L %']) \n",
    "cash=p.portfolio[0:2]\n"
   ]
  },
  {
   "cell_type": "markdown",
   "id": "75cb5120-40d9-48f9-bf7e-9f60b5a4c82d",
   "metadata": {},
   "source": [
    "# Tables and pies"
   ]
  },
  {
   "cell_type": "code",
   "execution_count": null,
   "id": "056e6e7d-2ac0-4f73-8b01-7a33f468f6f8",
   "metadata": {
    "tags": []
   },
   "outputs": [],
   "source": [
    "print(\"\\nCASH\")\n",
    "display(cash)\n",
    "print(\"\\nSHARES\")\n",
    "display(e)\n",
    "print(\"\\nRepartition along SECTORS\")\n",
    "display(sr)\n",
    "print(\"\\nRepartition along MARKETS\")\n",
    "display(mr)\n",
    "\n",
    "\n",
    "types=p.portfolio.groupby(['Type']).sum()\n",
    "shares=p.portfolio.groupby(['Share']).sum()\n",
    "\n",
    "\n",
    "fig = plt.figure(figsize=(30,20), dpi=72)\n",
    "\n",
    "plt.subplot(231)\n",
    "plt.pie(types['Total CHF'],labels=types.index, autopct='%1.1f%%')\n",
    "plt.title('Total by types')\n",
    "\n",
    "plt.subplot(232)\n",
    "plt.pie(p.market_ratio.loc[0],labels=p.market_ratio.columns, autopct='%1.1f%%')\n",
    "plt.title('Total by markets')\n",
    "\n",
    "\n",
    "plt.subplot(233)\n",
    "colors = ['g' if m > 0 else 'r' for m in d['P&L %']]\n",
    "plt.bar(d['Share'],d['P&L %'],label='P&L %', color=colors)\n",
    "plt.ylabel('%')\n",
    "plt.grid()\n",
    "plt.legend()\n",
    "plt.title('Profit and Loss in % per share')\n",
    "\n",
    "plt.subplot(234)\n",
    "plt.pie(p.sectors_ratio.loc[0],labels=p.sectors_ratio.columns, autopct='%1.1f%%')\n",
    "plt.title('Total by sectors')\n",
    "\n",
    "plt.subplot(235)\n",
    "plt.pie(shares['Total CHF'],labels=shares.index, autopct='%1.1f%%')\n",
    "plt.title('Total by ticker')\n",
    "\n",
    "plt.subplot(236)\n",
    "colors = ['g' if m > 0 else 'r' for m in d['P&L CHF']]\n",
    "plt.bar(d['Share'],d['P&L CHF'],label='P&L CHF', color=colors)\n",
    "plt.grid()\n",
    "plt.legend()\n",
    "plt.title('Profit and Loss in CHF per share')\n",
    "plt.ylabel('CHF')\n",
    "\n",
    "\n",
    "\n",
    "\n",
    "\n",
    "\n",
    "plt.show();"
   ]
  },
  {
   "cell_type": "code",
   "execution_count": null,
   "id": "732707fb-07be-47d7-b649-ff965d6702fa",
   "metadata": {},
   "outputs": [],
   "source": []
  }
 ],
 "metadata": {
  "kernelspec": {
   "display_name": "Python 3 (ipykernel)",
   "language": "python",
   "name": "python3"
  },
  "language_info": {
   "codemirror_mode": {
    "name": "ipython",
    "version": 3
   },
   "file_extension": ".py",
   "mimetype": "text/x-python",
   "name": "python",
   "nbconvert_exporter": "python",
   "pygments_lexer": "ipython3",
   "version": "3.8.10"
  }
 },
 "nbformat": 4,
 "nbformat_minor": 5
}
